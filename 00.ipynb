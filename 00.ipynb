{
 "cells": [
  {
   "cell_type": "code",
   "execution_count": 1,
   "id": "d36708a2-0184-4b45-830b-7aac1263620f",
   "metadata": {},
   "outputs": [],
   "source": [
    "# Do Mobile-Clf-Ram and Mobile-Clf-Int-Memory\n",
    "import pandas as pd\n",
    "import numpy as np\n",
    "import matplotlib.pyplot as plt\n",
    "import sklearn\n",
    "from sklearn.preprocessing import (\n",
    "    StandardScaler,\n",
    "    RobustScaler,\n",
    "    MinMaxScaler,\n",
    "    MaxAbsScaler,\n",
    "    OneHotEncoder,\n",
    "    LabelEncoder,\n",
    "    Normalizer,\n",
    ")\n",
    "from sklearn.model_selection import cross_val_score,train_test_split\n",
    "from sklearn.neighbors import KNeighborsRegressor\n",
    "from sklearn.linear_model import LogisticRegression,LogisticRegressionCV\n",
    "from sklearn.naive_bayes import GaussianNB\n",
    "from sklearn.tree import DecisionTreeRegressor\n",
    "from sklearn.ensemble import GradientBoostingRegressor,AdaBoostRegressor,VotingRegressor,BaggingRegressor,RandomForestRegressor\n",
    "from sklearn.svm import SVR\n",
    "from sklearn.ensemble import BaggingRegressor\n",
    "from sklearn.ensemble import ExtraTreesRegressor\n",
    "np.random.seed(42)"
   ]
  },
  {
   "cell_type": "code",
   "execution_count": 2,
   "id": "a702b161-2958-45d3-83cc-cb6511ad0275",
   "metadata": {},
   "outputs": [],
   "source": [
    "data = pd.read_csv('train.csv')\n",
    "test_data = pd.read_csv('test.csv')"
   ]
  },
  {
   "cell_type": "code",
   "execution_count": 3,
   "id": "21ffe265-d067-4a63-92de-3454f8640fcc",
   "metadata": {},
   "outputs": [],
   "source": [
    "X = data.drop(['price_range'],axis=1)\n",
    "y = data[['price_range']]"
   ]
  },
  {
   "cell_type": "code",
   "execution_count": 4,
   "id": "7692862f-3f44-4487-91ab-234dad14ee75",
   "metadata": {},
   "outputs": [],
   "source": [
    "X_train,X_test,y_train,y_test = train_test_split(X,y,test_size=0.25)"
   ]
  },
  {
   "cell_type": "code",
   "execution_count": 5,
   "id": "fe674346-a11a-40ff-a964-2fd178fd5f60",
   "metadata": {},
   "outputs": [],
   "source": [
    "import wandb\n",
    "project_name = 'Mobile-Price-Clf'"
   ]
  },
  {
   "cell_type": "code",
   "execution_count": 6,
   "id": "572e5c9e-835e-4b07-a5e0-0b5a3ca4cb15",
   "metadata": {},
   "outputs": [
    {
     "name": "stderr",
     "output_type": "stream",
     "text": [
      "\u001b[34m\u001b[1mwandb\u001b[0m: Currently logged in as: \u001b[33mranuga-d\u001b[0m (use `wandb login --relogin` to force relogin)\n",
      "\u001b[34m\u001b[1mwandb\u001b[0m: wandb version 0.11.2 is available!  To upgrade, please run:\n",
      "\u001b[34m\u001b[1mwandb\u001b[0m:  $ pip install wandb --upgrade\n"
     ]
    },
    {
     "data": {
      "text/html": [
       "\n",
       "                Tracking run with wandb version 0.10.33<br/>\n",
       "                Syncing run <strong style=\"color:#cdcd00\">baseline</strong> to <a href=\"https://wandb.ai\" target=\"_blank\">Weights & Biases</a> <a href=\"https://docs.wandb.com/integrations/jupyter.html\" target=\"_blank\">(Documentation)</a>.<br/>\n",
       "                Project page: <a href=\"https://wandb.ai/ranuga-d/Mobile-Price-Clf\" target=\"_blank\">https://wandb.ai/ranuga-d/Mobile-Price-Clf</a><br/>\n",
       "                Run page: <a href=\"https://wandb.ai/ranuga-d/Mobile-Price-Clf/runs/zpopz4l0\" target=\"_blank\">https://wandb.ai/ranuga-d/Mobile-Price-Clf/runs/zpopz4l0</a><br/>\n",
       "                Run data is saved locally in <code>/home/indika/Programming/Projects/Python/Artifical-Intelligence/Sklearn/Regression/Mobile-Price-Classification/wandb/run-20210808_180628-zpopz4l0</code><br/><br/>\n",
       "            "
      ],
      "text/plain": [
       "<IPython.core.display.HTML object>"
      ]
     },
     "metadata": {},
     "output_type": "display_data"
    },
    {
     "name": "stderr",
     "output_type": "stream",
     "text": [
      "/home/indika/anaconda3/lib/python3.7/site-packages/sklearn/utils/validation.py:63: DataConversionWarning: A column-vector y was passed when a 1d array was expected. Please change the shape of y to (n_samples, ), for example using ravel().\n",
      "  return f(*args, **kwargs)\n"
     ]
    }
   ],
   "source": [
    "wandb.init(project=project_name,name='baseline')\n",
    "model = GradientBoostingRegressor()\n",
    "model.fit(X_train,y_train)\n",
    "wandb.log({'Acc':model.score(X_train,y_train)})\n",
    "wandb.log({'Val Acc':model.score(X_test,y_test)})"
   ]
  },
  {
   "cell_type": "code",
   "execution_count": 7,
   "id": "fcd508a4-2cc6-4430-8ebf-60f96211963d",
   "metadata": {},
   "outputs": [],
   "source": [
    "pres = [StandardScaler(),RobustScaler(),MinMaxScaler(),MaxAbsScaler(),Normalizer(),LabelEncoder()]"
   ]
  },
  {
   "cell_type": "code",
   "execution_count": 8,
   "id": "e28e9297-74e2-4a08-9aa3-c1e110fa89b5",
   "metadata": {},
   "outputs": [],
   "source": [
    "label_encoder = True"
   ]
  },
  {
   "cell_type": "code",
   "execution_count": 9,
   "id": "72882e77-3363-4c02-aaed-483c47e092ff",
   "metadata": {},
   "outputs": [],
   "source": [
    "PROJECT_NAME = project_name"
   ]
  },
  {
   "cell_type": "code",
   "execution_count": 10,
   "id": "1621fcc6-abde-44fd-9038-e3af06c54132",
   "metadata": {},
   "outputs": [],
   "source": [
    "# for pre in pres:\n",
    "#     X_train,X_test,y_train,y_test = train_test_split(X,y,test_size=0.25)\n",
    "#     if label_encoder is True:\n",
    "#         le = LabelEncoder()\n",
    "#         le.fit(y_train)\n",
    "#         y_train = le.transform(y_train)\n",
    "#     wandb.init(project=PROJECT_NAME,name=f'preproccessing-{pre}-labelencoder-{label_encoder}')\n",
    "#     transformation = pre\n",
    "#     transformation.fit(X_train)\n",
    "#     X_train = transformation.transform(X_train)\n",
    "#     model = GradientBoostingRegressor()\n",
    "#     print('Fitting')\n",
    "#     model.fit(X_train,y_train)\n",
    "#     print('Scoring Train')\n",
    "#     acc = model.score(X_train,y_train)\n",
    "#     wandb.log({'Acc':acc})\n",
    "#     print('Scoring Test')\n",
    "#     acc = model.score(transformation.transform(X_test),y_test)\n",
    "#     wandb.log({'Val Acc':acc})"
   ]
  },
  {
   "cell_type": "code",
   "execution_count": 11,
   "id": "c54a4960-1047-4978-9dc4-e600579092b1",
   "metadata": {},
   "outputs": [],
   "source": [
    "del test_data['id']"
   ]
  },
  {
   "cell_type": "code",
   "execution_count": 12,
   "id": "4ceed906-0be5-47e1-a11b-1ffd3e67bfb7",
   "metadata": {},
   "outputs": [],
   "source": [
    "transformation = StandardScaler()\n",
    "X_train,X_test,y_train,y_test = train_test_split(X,y,test_size=0.25)\n",
    "X_train = transformation.fit_transform(X_train)\n",
    "X_test = transformation.transform(X_test)\n",
    "test_data = transformation.transform(test_data)"
   ]
  },
  {
   "cell_type": "code",
   "execution_count": 13,
   "id": "e4485e85-8b80-4101-8959-95429477a8cd",
   "metadata": {},
   "outputs": [],
   "source": [
    "models = [\n",
    "    ['KNeighborsRegressor',KNeighborsRegressor],\n",
    "    ['ExtraTreesRegressor',ExtraTreesRegressor],\n",
    "    ['BaggingRegressor',BaggingRegressor],\n",
    "    ['LogisticRegression',LogisticRegression],\n",
    "    ['GaussianNB',GaussianNB],\n",
    "    ['DecisionTreeRegressor',DecisionTreeRegressor],\n",
    "    ['GradientBoostingRegressor',GradientBoostingRegressor],\n",
    "    ['AdaBoostRegressor',AdaBoostRegressor],\n",
    "    ['RandomForestRegressor',RandomForestRegressor],\n",
    "    ['BaggingRegressor',BaggingRegressor],\n",
    "    ['SVR',SVR],\n",
    "]"
   ]
  },
  {
   "cell_type": "code",
   "execution_count": 14,
   "id": "04aa9395-c7c2-4212-91aa-3751385452c7",
   "metadata": {},
   "outputs": [],
   "source": [
    "# for model in models:\n",
    "#     wandb.init(project=PROJECT_NAME,name=f'{model[0]}')\n",
    "#     model = model[1]()\n",
    "#     model.fit(X_train,y_train)\n",
    "#     acc = model.score(X_train,y_train)\n",
    "#     wandb.log({'Acc':acc})\n",
    "#     print('Scoring Test')\n",
    "#     acc = model.score(X_test,y_test)\n",
    "#     wandb.log({'Val Acc':acc})"
   ]
  },
  {
   "cell_type": "code",
   "execution_count": 15,
   "id": "39198b49-0a72-48c4-88c4-4b0fa2371369",
   "metadata": {},
   "outputs": [],
   "source": [
    "# wandb.init(project=project_name,name='baseline')\n",
    "# model = RandomForestRegressor()\n",
    "# model.fit(X_train,y_train)\n",
    "# wandb.log({'Acc':model.score(X_train,y_train)})\n",
    "# wandb.log({'Val Acc':model.score(X_test,y_test)})"
   ]
  },
  {
   "cell_type": "code",
   "execution_count": 16,
   "id": "a3c0597c-a637-4104-9913-27d96d095b00",
   "metadata": {},
   "outputs": [],
   "source": [
    "from sklearn.model_selection import GridSearchCV"
   ]
  },
  {
   "cell_type": "code",
   "execution_count": 17,
   "id": "71081c9a-669b-4530-a180-3073e4d4b597",
   "metadata": {},
   "outputs": [],
   "source": [
    "import pickle"
   ]
  },
  {
   "cell_type": "code",
   "execution_count": 19,
   "id": "8d6e92a6-f4a3-48f1-a78c-d45a1e5efede",
   "metadata": {},
   "outputs": [
    {
     "data": {
      "text/html": [
       "Finishing last run (ID:zpopz4l0) before initializing another..."
      ],
      "text/plain": [
       "<IPython.core.display.HTML object>"
      ]
     },
     "metadata": {},
     "output_type": "display_data"
    },
    {
     "data": {
      "text/html": [
       "<br/>Waiting for W&B process to finish, PID 558756<br/>Program ended successfully."
      ],
      "text/plain": [
       "<IPython.core.display.HTML object>"
      ]
     },
     "metadata": {},
     "output_type": "display_data"
    },
    {
     "data": {
      "application/vnd.jupyter.widget-view+json": {
       "model_id": "",
       "version_major": 2,
       "version_minor": 0
      },
      "text/plain": [
       "VBox(children=(Label(value=' 1.09MB of 1.09MB uploaded (1.08MB deduped)\\r'), FloatProgress(value=1.0, max=1.0)…"
      ]
     },
     "metadata": {},
     "output_type": "display_data"
    },
    {
     "data": {
      "text/html": [
       "Find user logs for this run at: <code>/home/indika/Programming/Projects/Python/Artifical-Intelligence/Sklearn/Regression/Mobile-Price-Classification/wandb/run-20210808_180628-zpopz4l0/logs/debug.log</code>"
      ],
      "text/plain": [
       "<IPython.core.display.HTML object>"
      ]
     },
     "metadata": {},
     "output_type": "display_data"
    },
    {
     "data": {
      "text/html": [
       "Find internal logs for this run at: <code>/home/indika/Programming/Projects/Python/Artifical-Intelligence/Sklearn/Regression/Mobile-Price-Classification/wandb/run-20210808_180628-zpopz4l0/logs/debug-internal.log</code>"
      ],
      "text/plain": [
       "<IPython.core.display.HTML object>"
      ]
     },
     "metadata": {},
     "output_type": "display_data"
    },
    {
     "data": {
      "text/html": [
       "<h3>Run summary:</h3><br/><style>\n",
       "    table.wandb td:nth-child(1) { padding: 0 10px; text-align: right }\n",
       "    </style><table class=\"wandb\">\n",
       "<tr><td>Acc</td><td>0.96384</td></tr><tr><td>_runtime</td><td>6</td></tr><tr><td>_timestamp</td><td>1628426194</td></tr><tr><td>_step</td><td>1</td></tr><tr><td>Val Acc</td><td>0.93382</td></tr></table>"
      ],
      "text/plain": [
       "<IPython.core.display.HTML object>"
      ]
     },
     "metadata": {},
     "output_type": "display_data"
    },
    {
     "data": {
      "text/html": [
       "<h3>Run history:</h3><br/><style>\n",
       "    table.wandb td:nth-child(1) { padding: 0 10px; text-align: right }\n",
       "    </style><table class=\"wandb\">\n",
       "<tr><td>Acc</td><td>▁</td></tr><tr><td>_runtime</td><td>▁▁</td></tr><tr><td>_timestamp</td><td>▁▁</td></tr><tr><td>_step</td><td>▁█</td></tr><tr><td>Val Acc</td><td>▁</td></tr></table><br/>"
      ],
      "text/plain": [
       "<IPython.core.display.HTML object>"
      ]
     },
     "metadata": {},
     "output_type": "display_data"
    },
    {
     "data": {
      "text/html": [
       "Synced 6 W&B file(s), 0 media file(s), 2 artifact file(s) and 1 other file(s)"
      ],
      "text/plain": [
       "<IPython.core.display.HTML object>"
      ]
     },
     "metadata": {},
     "output_type": "display_data"
    },
    {
     "data": {
      "text/html": [
       "\n",
       "                    <br/>Synced <strong style=\"color:#cdcd00\">baseline</strong>: <a href=\"https://wandb.ai/ranuga-d/Mobile-Price-Clf/runs/zpopz4l0\" target=\"_blank\">https://wandb.ai/ranuga-d/Mobile-Price-Clf/runs/zpopz4l0</a><br/>\n",
       "                "
      ],
      "text/plain": [
       "<IPython.core.display.HTML object>"
      ]
     },
     "metadata": {},
     "output_type": "display_data"
    },
    {
     "data": {
      "text/html": [
       "...Successfully finished last run (ID:zpopz4l0). Initializing new run:<br/><br/>"
      ],
      "text/plain": [
       "<IPython.core.display.HTML object>"
      ]
     },
     "metadata": {},
     "output_type": "display_data"
    },
    {
     "name": "stderr",
     "output_type": "stream",
     "text": [
      "\u001b[34m\u001b[1mwandb\u001b[0m: wandb version 0.11.2 is available!  To upgrade, please run:\n",
      "\u001b[34m\u001b[1mwandb\u001b[0m:  $ pip install wandb --upgrade\n"
     ]
    },
    {
     "data": {
      "text/html": [
       "\n",
       "                Tracking run with wandb version 0.10.33<br/>\n",
       "                Syncing run <strong style=\"color:#cdcd00\">Final</strong> to <a href=\"https://wandb.ai\" target=\"_blank\">Weights & Biases</a> <a href=\"https://docs.wandb.com/integrations/jupyter.html\" target=\"_blank\">(Documentation)</a>.<br/>\n",
       "                Project page: <a href=\"https://wandb.ai/ranuga-d/Mobile-Price-Clf\" target=\"_blank\">https://wandb.ai/ranuga-d/Mobile-Price-Clf</a><br/>\n",
       "                Run page: <a href=\"https://wandb.ai/ranuga-d/Mobile-Price-Clf/runs/2xnpta5r\" target=\"_blank\">https://wandb.ai/ranuga-d/Mobile-Price-Clf/runs/2xnpta5r</a><br/>\n",
       "                Run data is saved locally in <code>/home/indika/Programming/Projects/Python/Artifical-Intelligence/Sklearn/Regression/Mobile-Price-Classification/wandb/run-20210808_180721-2xnpta5r</code><br/><br/>\n",
       "            "
      ],
      "text/plain": [
       "<IPython.core.display.HTML object>"
      ]
     },
     "metadata": {},
     "output_type": "display_data"
    },
    {
     "name": "stderr",
     "output_type": "stream",
     "text": [
      "/home/indika/anaconda3/lib/python3.7/site-packages/ipykernel_launcher.py:3: DataConversionWarning: A column-vector y was passed when a 1d array was expected. Please change the shape of y to (n_samples,), for example using ravel().\n",
      "  This is separate from the ipykernel package so we can avoid doing imports until\n"
     ]
    }
   ],
   "source": [
    "wandb.init(project=PROJECT_NAME,name='Final')\n",
    "model = RandomForestRegressor(bootstrap=True,criterion= 'mse',max_depth= 10,max_features='auto',n_estimators= 250,oob_score= False)\n",
    "model.fit(X_train,y_train)\n",
    "wandb.log({'Acc':model.score(X_train,y_train)})\n",
    "wandb.log({'Val Acc':model.score(X_test,y_test)})"
   ]
  },
  {
   "cell_type": "code",
   "execution_count": 20,
   "id": "e9e8679a-011f-4147-9c11-0b37ec7773f9",
   "metadata": {},
   "outputs": [],
   "source": [
    "pickle.dump(model,open('./model.pkl','wb'))"
   ]
  },
  {
   "cell_type": "code",
   "execution_count": 23,
   "id": "52de449b-b7f8-49cf-842f-07507565cf0b",
   "metadata": {},
   "outputs": [],
   "source": [
    "ids = pd.read_csv('./test.csv')['id']"
   ]
  },
  {
   "cell_type": "code",
   "execution_count": 24,
   "id": "c3461001-81a5-4168-abf9-830e29a071d2",
   "metadata": {},
   "outputs": [],
   "source": [
    "preds = model.predict(test_data)"
   ]
  },
  {
   "cell_type": "code",
   "execution_count": 25,
   "id": "f12270fc-63bb-48f7-a882-8242bc52f9dc",
   "metadata": {},
   "outputs": [],
   "source": [
    "df = {'id':[],'pred':[]}"
   ]
  },
  {
   "cell_type": "code",
   "execution_count": 26,
   "id": "b92c712c-7f8c-4804-a877-489c3f78e915",
   "metadata": {},
   "outputs": [],
   "source": [
    "for _id,pred in zip(ids,preds):\n",
    "    df['id'].append(_id)\n",
    "    df['pred'].append(pred)"
   ]
  },
  {
   "cell_type": "code",
   "execution_count": 29,
   "id": "ddcd762a-2a66-488b-867f-7c1527421748",
   "metadata": {},
   "outputs": [],
   "source": [
    "test_data_preds = pd.DataFrame(df)"
   ]
  },
  {
   "cell_type": "code",
   "execution_count": 31,
   "id": "62ecf38e-e2d0-4c50-9fff-aaba08d279a7",
   "metadata": {},
   "outputs": [],
   "source": [
    "test_data_preds.to_csv('./test_data_preds.csv',index=False)"
   ]
  },
  {
   "cell_type": "code",
   "execution_count": null,
   "id": "d8cb0bb1-d82e-47f2-b0b6-6eefd1bea771",
   "metadata": {},
   "outputs": [],
   "source": []
  }
 ],
 "metadata": {
  "kernelspec": {
   "display_name": "Python 3.7.3 64-bit ('base': conda)",
   "language": "python",
   "name": "python373jvsc74a57bd0210f9608a45c0278a93c9e0b10db32a427986ab48cfc0d20c139811eb78c4bbc"
  },
  "language_info": {
   "codemirror_mode": {
    "name": "ipython",
    "version": 3
   },
   "file_extension": ".py",
   "mimetype": "text/x-python",
   "name": "python",
   "nbconvert_exporter": "python",
   "pygments_lexer": "ipython3",
   "version": "3.7.7"
  }
 },
 "nbformat": 4,
 "nbformat_minor": 5
}
